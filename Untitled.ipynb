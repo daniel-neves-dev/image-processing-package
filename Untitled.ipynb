{
 "cells": [
  {
   "cell_type": "code",
   "execution_count": null,
   "id": "7fc37b3b-7c82-4726-a0f0-1699fd01a820",
   "metadata": {},
   "outputs": [],
   "source": [
    "from image_processing.utils import io, plot\n",
    "from image_processing.processing import combination, transformation"
   ]
  },
  {
   "cell_type": "code",
   "execution_count": null,
   "id": "2859c90f-4fcc-4aa2-9af3-2bfaddc700e2",
   "metadata": {},
   "outputs": [],
   "source": [
    "image_1 = io.read_image('/home/daniel/Desktop/fotos/floresta-verde.jpg')"
   ]
  },
  {
   "cell_type": "code",
   "execution_count": 3,
   "id": "013e2925-a932-49cc-ba0e-741e0ca3aeaa",
   "metadata": {},
   "outputs": [
    {
     "ename": "NameError",
     "evalue": "name 'plot' is not defined",
     "output_type": "error",
     "traceback": [
      "\u001b[0;31m---------------------------------------------------------------------------\u001b[0m",
      "\u001b[0;31mNameError\u001b[0m                                 Traceback (most recent call last)",
      "Cell \u001b[0;32mIn[3], line 1\u001b[0m\n\u001b[0;32m----> 1\u001b[0m \u001b[43mplot\u001b[49m\u001b[38;5;241m.\u001b[39mplot_image(image_1)\n",
      "\u001b[0;31mNameError\u001b[0m: name 'plot' is not defined"
     ]
    }
   ],
   "source": [
    "plot.plot_image(image_1)"
   ]
  }
 ],
 "metadata": {
  "kernelspec": {
   "display_name": "Python 3 (ipykernel)",
   "language": "python",
   "name": "python3"
  },
  "language_info": {
   "codemirror_mode": {
    "name": "ipython",
    "version": 3
   },
   "file_extension": ".py",
   "mimetype": "text/x-python",
   "name": "python",
   "nbconvert_exporter": "python",
   "pygments_lexer": "ipython3",
   "version": "3.10.12"
  }
 },
 "nbformat": 4,
 "nbformat_minor": 5
}
